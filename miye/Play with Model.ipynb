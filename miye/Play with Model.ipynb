{
 "cells": [
  {
   "cell_type": "code",
   "execution_count": 40,
   "metadata": {},
   "outputs": [],
   "source": [
    "from administration.models import (Customer, Service)\n",
    "from reservation.models import Reservation"
   ]
  },
  {
   "cell_type": "code",
   "execution_count": 41,
   "metadata": {},
   "outputs": [
    {
     "data": {
      "text/plain": [
       "(3, {'reservation.Reservation': 0, 'administration.Service': 3})"
      ]
     },
     "execution_count": 41,
     "metadata": {},
     "output_type": "execute_result"
    }
   ],
   "source": [
    "Customer.objects.all().delete()\n",
    "Service.objects.all().delete()"
   ]
  },
  {
   "cell_type": "code",
   "execution_count": 42,
   "metadata": {},
   "outputs": [],
   "source": [
    "c1 = Customer.objects.create(first_name=\"Haibo\", last_name=\"Yan\", gender='M')"
   ]
  },
  {
   "cell_type": "code",
   "execution_count": 43,
   "metadata": {},
   "outputs": [],
   "source": [
    "c1.save()"
   ]
  },
  {
   "cell_type": "code",
   "execution_count": 44,
   "metadata": {},
   "outputs": [],
   "source": [
    "c2 = Customer.objects.all()[0]"
   ]
  },
  {
   "cell_type": "code",
   "execution_count": 45,
   "metadata": {},
   "outputs": [
    {
     "data": {
      "text/plain": [
       "True"
      ]
     },
     "execution_count": 45,
     "metadata": {},
     "output_type": "execute_result"
    }
   ],
   "source": [
    "c1 == c2"
   ]
  },
  {
   "cell_type": "code",
   "execution_count": 46,
   "metadata": {},
   "outputs": [
    {
     "data": {
      "text/plain": [
       "django.db.models.query.QuerySet"
      ]
     },
     "execution_count": 46,
     "metadata": {},
     "output_type": "execute_result"
    }
   ],
   "source": [
    "type(Customer.objects.all())"
   ]
  },
  {
   "cell_type": "code",
   "execution_count": 47,
   "metadata": {},
   "outputs": [
    {
     "data": {
      "text/plain": [
       "[<Customer: Customer id: None, name: Zachary Yan, sex: M, True>,\n",
       " <Customer: Customer id: None, name: Tina Luo, sex: F, True>,\n",
       " <Customer: Customer id: None, name: Ruby Yan, sex: F, True>]"
      ]
     },
     "execution_count": 47,
     "metadata": {},
     "output_type": "execute_result"
    }
   ],
   "source": [
    "Customer.objects.bulk_create([\n",
    "    Customer(first_name=\"Zachary\", last_name=\"Yan\", gender='M'),\n",
    "    Customer(first_name=\"Tina\", last_name=\"Luo\", gender='F'),\n",
    "    Customer(first_name=\"Ruby\", last_name=\"Yan\", gender='F')\n",
    "])"
   ]
  },
  {
   "cell_type": "code",
   "execution_count": 48,
   "metadata": {},
   "outputs": [],
   "source": [
    "c3 = Customer.objects.all()[3]"
   ]
  },
  {
   "cell_type": "code",
   "execution_count": 49,
   "metadata": {},
   "outputs": [
    {
     "data": {
      "text/plain": [
       "<Customer: Customer id: 9, name: Ruby Yan, sex: F, True>"
      ]
     },
     "execution_count": 49,
     "metadata": {},
     "output_type": "execute_result"
    }
   ],
   "source": [
    "c3"
   ]
  },
  {
   "cell_type": "code",
   "execution_count": 50,
   "metadata": {},
   "outputs": [
    {
     "name": "stdout",
     "output_type": "stream",
     "text": [
      "Customer id: 9, name: Ruby Yan, sex: F, True\n"
     ]
    }
   ],
   "source": [
    "print(c3)"
   ]
  },
  {
   "cell_type": "code",
   "execution_count": 51,
   "metadata": {},
   "outputs": [
    {
     "data": {
      "text/plain": [
       "4"
      ]
     },
     "execution_count": 51,
     "metadata": {},
     "output_type": "execute_result"
    }
   ],
   "source": [
    "Customer.objects.all().count()"
   ]
  },
  {
   "cell_type": "code",
   "execution_count": 52,
   "metadata": {},
   "outputs": [],
   "source": [
    "males = Customer.objects.filter(gender='M')"
   ]
  },
  {
   "cell_type": "code",
   "execution_count": 53,
   "metadata": {},
   "outputs": [],
   "source": [
    "zachary = Customer.objects.get(first_name='Zachary') #get only allow one row"
   ]
  },
  {
   "cell_type": "code",
   "execution_count": 54,
   "metadata": {},
   "outputs": [],
   "source": [
    "females = Customer.objects.order_by('last_name').filter(gender='F')"
   ]
  },
  {
   "cell_type": "code",
   "execution_count": 55,
   "metadata": {},
   "outputs": [
    {
     "name": "stdout",
     "output_type": "stream",
     "text": [
      "<QuerySet [<Customer: Customer id: 8, name: Tina Luo, sex: F, True>, <Customer: Customer id: 9, name: Ruby Yan, sex: F, True>]>\n"
     ]
    }
   ],
   "source": [
    "print(females)"
   ]
  },
  {
   "cell_type": "code",
   "execution_count": 56,
   "metadata": {},
   "outputs": [],
   "source": [
    "females_rev = Customer.objects.filter(gender='F').order_by('-last_name')"
   ]
  },
  {
   "cell_type": "code",
   "execution_count": 57,
   "metadata": {},
   "outputs": [
    {
     "name": "stdout",
     "output_type": "stream",
     "text": [
      "<QuerySet [<Customer: Customer id: 9, name: Ruby Yan, sex: F, True>, <Customer: Customer id: 8, name: Tina Luo, sex: F, True>]>\n"
     ]
    }
   ],
   "source": [
    "print(females_rev)"
   ]
  },
  {
   "cell_type": "code",
   "execution_count": 58,
   "metadata": {},
   "outputs": [
    {
     "data": {
      "text/plain": [
       "<QuerySet [('Haibo', 'Yan'), ('Zachary', 'Yan'), ('Tina', 'Luo'), ('Ruby', 'Yan')]>"
      ]
     },
     "execution_count": 58,
     "metadata": {},
     "output_type": "execute_result"
    }
   ],
   "source": [
    "Customer.objects.values_list(\"first_name\", \"last_name\")"
   ]
  },
  {
   "cell_type": "code",
   "execution_count": 59,
   "metadata": {},
   "outputs": [],
   "source": [
    "old_customer = Customer.objects.create(first_name=\"Sarah\", last_name=\"Brightman\", gender='F', active=False)"
   ]
  },
  {
   "cell_type": "code",
   "execution_count": 60,
   "metadata": {},
   "outputs": [],
   "source": [
    "old_customer.save()"
   ]
  },
  {
   "cell_type": "code",
   "execution_count": 61,
   "metadata": {},
   "outputs": [
    {
     "data": {
      "text/plain": [
       "5"
      ]
     },
     "execution_count": 61,
     "metadata": {},
     "output_type": "execute_result"
    }
   ],
   "source": [
    "Customer.objects.all().count()"
   ]
  },
  {
   "cell_type": "code",
   "execution_count": 62,
   "metadata": {},
   "outputs": [
    {
     "data": {
      "text/plain": [
       "4"
      ]
     },
     "execution_count": 62,
     "metadata": {},
     "output_type": "execute_result"
    }
   ],
   "source": [
    "Customer.actives.count()"
   ]
  },
  {
   "cell_type": "code",
   "execution_count": 63,
   "metadata": {},
   "outputs": [
    {
     "name": "stdout",
     "output_type": "stream",
     "text": [
      "<QuerySet [<Customer: Customer id: 6, name: Haibo Yan, sex: M, True>, <Customer: Customer id: 7, name: Zachary Yan, sex: M, True>, <Customer: Customer id: 8, name: Tina Luo, sex: F, True>, <Customer: Customer id: 9, name: Ruby Yan, sex: F, True>, <Customer: Customer id: 10, name: Sarah Brightman, sex: F, False>]>\n"
     ]
    }
   ],
   "source": [
    "print(Customer.objects.all())"
   ]
  },
  {
   "cell_type": "code",
   "execution_count": 64,
   "metadata": {},
   "outputs": [
    {
     "name": "stdout",
     "output_type": "stream",
     "text": [
      "<QuerySet [<Customer: Customer id: 6, name: Haibo Yan, sex: M, True>, <Customer: Customer id: 7, name: Zachary Yan, sex: M, True>, <Customer: Customer id: 8, name: Tina Luo, sex: F, True>, <Customer: Customer id: 9, name: Ruby Yan, sex: F, True>]>\n"
     ]
    }
   ],
   "source": [
    "print(Customer.actives.all())"
   ]
  },
  {
   "cell_type": "code",
   "execution_count": 65,
   "metadata": {},
   "outputs": [],
   "source": [
    "\n",
    "s1 = Service.objects.create(name='Mineral baths', description='Mineral baths', time_type='[30, 60]', rate=2.50)"
   ]
  },
  {
   "cell_type": "code",
   "execution_count": 66,
   "metadata": {},
   "outputs": [],
   "source": [
    "s1.save()"
   ]
  },
  {
   "cell_type": "code",
   "execution_count": 67,
   "metadata": {},
   "outputs": [
    {
     "data": {
      "text/plain": [
       "[<Service: name: Massage services\n",
       "  description: Swedish, shiatsu, or deep tissue\n",
       "  time_type: [30, 60] rate: 3.0>, <Service: name: Facial services\n",
       "  description: normal or collagen\n",
       "  time_type: [30, 60] rate: 2.0>, <Service: name: Specialty treatment services\n",
       "  description: hot stone, sugar scrub, herbal body wrap, or botanical mud wrap\n",
       "  time_type: [60, 90] rate: 3.5>]"
      ]
     },
     "execution_count": 67,
     "metadata": {},
     "output_type": "execute_result"
    }
   ],
   "source": [
    "Service.objects.bulk_create([\n",
    "    Service(name='Massage services', description='Swedish, shiatsu, or deep tissue', time_type='[30, 60]', rate=3.00),\n",
    "    Service(name='Facial services', description='normal or collagen', time_type='[30, 60]', rate=2.00),\n",
    "    Service(name='Specialty treatment services', description='hot stone, sugar scrub, herbal body wrap, or botanical mud wrap', time_type='[60, 90]', rate=3.50)\n",
    "])"
   ]
  },
  {
   "cell_type": "code",
   "execution_count": 68,
   "metadata": {},
   "outputs": [
    {
     "data": {
      "text/plain": [
       "4"
      ]
     },
     "execution_count": 68,
     "metadata": {},
     "output_type": "execute_result"
    }
   ],
   "source": [
    "Service.objects.all().count()"
   ]
  },
  {
   "cell_type": "code",
   "execution_count": 69,
   "metadata": {},
   "outputs": [],
   "source": [
    "s = list(Service.objects.all())"
   ]
  },
  {
   "cell_type": "code",
   "execution_count": 70,
   "metadata": {},
   "outputs": [
    {
     "data": {
      "text/plain": [
       "[<Service: name: Mineral baths\n",
       "  description: Mineral baths\n",
       "  time_type: [30, 60] rate: 2.50>, <Service: name: Massage services\n",
       "  description: Swedish, shiatsu, or deep tissue\n",
       "  time_type: [30, 60] rate: 3.00>, <Service: name: Facial services\n",
       "  description: normal or collagen\n",
       "  time_type: [30, 60] rate: 2.00>, <Service: name: Specialty treatment services\n",
       "  description: hot stone, sugar scrub, herbal body wrap, or botanical mud wrap\n",
       "  time_type: [60, 90] rate: 3.50>]"
      ]
     },
     "execution_count": 70,
     "metadata": {},
     "output_type": "execute_result"
    }
   ],
   "source": [
    "s"
   ]
  },
  {
   "cell_type": "code",
   "execution_count": 71,
   "metadata": {},
   "outputs": [
    {
     "data": {
      "text/plain": [
       "[30, 60]"
      ]
     },
     "execution_count": 71,
     "metadata": {},
     "output_type": "execute_result"
    }
   ],
   "source": [
    "Service.objects.all()[0].time_list()"
   ]
  },
  {
   "cell_type": "code",
   "execution_count": 72,
   "metadata": {},
   "outputs": [],
   "source": [
    "import json\n",
    "range = json.loads(Service.objects.all()[0].time_type)"
   ]
  },
  {
   "cell_type": "code",
   "execution_count": 73,
   "metadata": {},
   "outputs": [
    {
     "data": {
      "text/plain": [
       "30"
      ]
     },
     "execution_count": 73,
     "metadata": {},
     "output_type": "execute_result"
    }
   ],
   "source": [
    "range[0]"
   ]
  },
  {
   "cell_type": "code",
   "execution_count": 74,
   "metadata": {},
   "outputs": [
    {
     "data": {
      "text/plain": [
       "2"
      ]
     },
     "execution_count": 74,
     "metadata": {},
     "output_type": "execute_result"
    }
   ],
   "source": [
    "len(range)"
   ]
  }
 ],
 "metadata": {
  "kernelspec": {
   "display_name": "Django Shell-Plus",
   "language": "python",
   "name": "django_extensions"
  },
  "language_info": {
   "codemirror_mode": {
    "name": "ipython",
    "version": 3
   },
   "file_extension": ".py",
   "mimetype": "text/x-python",
   "name": "python",
   "nbconvert_exporter": "python",
   "pygments_lexer": "ipython3",
   "version": "3.7.0"
  }
 },
 "nbformat": 4,
 "nbformat_minor": 2
}
