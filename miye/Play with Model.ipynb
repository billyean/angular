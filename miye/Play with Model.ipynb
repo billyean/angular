{
 "cells": [
  {
   "cell_type": "code",
   "execution_count": 1,
   "metadata": {},
   "outputs": [],
   "source": [
    "from administration.models import (Customer, Service)\n",
    "from reservation.models import Reservation"
   ]
  },
  {
   "cell_type": "code",
   "execution_count": 2,
   "metadata": {},
   "outputs": [
    {
     "data": {
      "text/plain": [
       "(5, {'reservation.Reservation': 0, 'administration.Customer': 5})"
      ]
     },
     "execution_count": 2,
     "metadata": {},
     "output_type": "execute_result"
    }
   ],
   "source": [
    "Customer.objects.all().delete()"
   ]
  },
  {
   "cell_type": "code",
   "execution_count": 3,
   "metadata": {},
   "outputs": [],
   "source": [
    "c1 = Customer.objects.create(first_name=\"Haibo\", last_name=\"Yan\", gender='M')"
   ]
  },
  {
   "cell_type": "code",
   "execution_count": 4,
   "metadata": {},
   "outputs": [],
   "source": [
    "c1.save()"
   ]
  },
  {
   "cell_type": "code",
   "execution_count": 5,
   "metadata": {},
   "outputs": [],
   "source": [
    "c2 = Customer.objects.all()[0]"
   ]
  },
  {
   "cell_type": "code",
   "execution_count": 6,
   "metadata": {},
   "outputs": [
    {
     "data": {
      "text/plain": [
       "True"
      ]
     },
     "execution_count": 6,
     "metadata": {},
     "output_type": "execute_result"
    }
   ],
   "source": [
    "c1 == c2"
   ]
  },
  {
   "cell_type": "code",
   "execution_count": 7,
   "metadata": {},
   "outputs": [
    {
     "data": {
      "text/plain": [
       "django.db.models.query.QuerySet"
      ]
     },
     "execution_count": 7,
     "metadata": {},
     "output_type": "execute_result"
    }
   ],
   "source": [
    "type(Customer.objects.all())"
   ]
  },
  {
   "cell_type": "code",
   "execution_count": 8,
   "metadata": {},
   "outputs": [
    {
     "data": {
      "text/plain": [
       "[<Customer: Customer id: None, name: Zachary Yan, sex: M, True>,\n",
       " <Customer: Customer id: None, name: Tina Luo, sex: F, True>,\n",
       " <Customer: Customer id: None, name: Ruby Yan, sex: F, True>]"
      ]
     },
     "execution_count": 8,
     "metadata": {},
     "output_type": "execute_result"
    }
   ],
   "source": [
    "Customer.objects.bulk_create([\n",
    "    Customer(first_name=\"Zachary\", last_name=\"Yan\", gender='M'),\n",
    "    Customer(first_name=\"Tina\", last_name=\"Luo\", gender='F'),\n",
    "    Customer(first_name=\"Ruby\", last_name=\"Yan\", gender='F')\n",
    "])"
   ]
  },
  {
   "cell_type": "code",
   "execution_count": 9,
   "metadata": {},
   "outputs": [],
   "source": [
    "c3 = Customer.objects.all()[3]"
   ]
  },
  {
   "cell_type": "code",
   "execution_count": 10,
   "metadata": {},
   "outputs": [
    {
     "data": {
      "text/plain": [
       "<Customer: Customer id: 26, name: Ruby Yan, sex: F, True>"
      ]
     },
     "execution_count": 10,
     "metadata": {},
     "output_type": "execute_result"
    }
   ],
   "source": [
    "c3"
   ]
  },
  {
   "cell_type": "code",
   "execution_count": 11,
   "metadata": {},
   "outputs": [
    {
     "name": "stdout",
     "output_type": "stream",
     "text": [
      "Customer id: 26, name: Ruby Yan, sex: F, True\n"
     ]
    }
   ],
   "source": [
    "print(c3)"
   ]
  },
  {
   "cell_type": "code",
   "execution_count": 12,
   "metadata": {},
   "outputs": [
    {
     "data": {
      "text/plain": [
       "4"
      ]
     },
     "execution_count": 12,
     "metadata": {},
     "output_type": "execute_result"
    }
   ],
   "source": [
    "Customer.objects.all().count()"
   ]
  },
  {
   "cell_type": "code",
   "execution_count": 13,
   "metadata": {},
   "outputs": [],
   "source": [
    "males = Customer.objects.filter(gender='M')"
   ]
  },
  {
   "cell_type": "code",
   "execution_count": 14,
   "metadata": {},
   "outputs": [],
   "source": [
    "zachary = Customer.objects.get(first_name='Zachary') #get only allow one row"
   ]
  },
  {
   "cell_type": "code",
   "execution_count": 15,
   "metadata": {},
   "outputs": [],
   "source": [
    "females = Customer.objects.order_by('last_name').filter(gender='F')"
   ]
  },
  {
   "cell_type": "code",
   "execution_count": 16,
   "metadata": {},
   "outputs": [
    {
     "name": "stdout",
     "output_type": "stream",
     "text": [
      "<QuerySet [<Customer: Customer id: 25, name: Tina Luo, sex: F, True>, <Customer: Customer id: 26, name: Ruby Yan, sex: F, True>]>\n"
     ]
    }
   ],
   "source": [
    "print(females)"
   ]
  },
  {
   "cell_type": "code",
   "execution_count": 17,
   "metadata": {},
   "outputs": [],
   "source": [
    "females_rev = Customer.objects.filter(gender='F').order_by('-last_name')"
   ]
  },
  {
   "cell_type": "code",
   "execution_count": 18,
   "metadata": {},
   "outputs": [
    {
     "name": "stdout",
     "output_type": "stream",
     "text": [
      "<QuerySet [<Customer: Customer id: 26, name: Ruby Yan, sex: F, True>, <Customer: Customer id: 25, name: Tina Luo, sex: F, True>]>\n"
     ]
    }
   ],
   "source": [
    "print(females_rev)"
   ]
  },
  {
   "cell_type": "code",
   "execution_count": 19,
   "metadata": {},
   "outputs": [
    {
     "data": {
      "text/plain": [
       "<QuerySet [('Haibo', 'Yan'), ('Zachary', 'Yan'), ('Tina', 'Luo'), ('Ruby', 'Yan')]>"
      ]
     },
     "execution_count": 19,
     "metadata": {},
     "output_type": "execute_result"
    }
   ],
   "source": [
    "Customer.objects.values_list(\"first_name\", \"last_name\")"
   ]
  },
  {
   "cell_type": "code",
   "execution_count": 20,
   "metadata": {},
   "outputs": [],
   "source": [
    "old_customer = Customer.objects.create(first_name=\"Sarah\", last_name=\"Brightman\", gender='F', active=False)"
   ]
  },
  {
   "cell_type": "code",
   "execution_count": 21,
   "metadata": {},
   "outputs": [],
   "source": [
    "old_customer.save()"
   ]
  },
  {
   "cell_type": "code",
   "execution_count": 22,
   "metadata": {},
   "outputs": [
    {
     "data": {
      "text/plain": [
       "5"
      ]
     },
     "execution_count": 22,
     "metadata": {},
     "output_type": "execute_result"
    }
   ],
   "source": [
    "Customer.objects.all().count()"
   ]
  },
  {
   "cell_type": "code",
   "execution_count": 23,
   "metadata": {},
   "outputs": [
    {
     "data": {
      "text/plain": [
       "4"
      ]
     },
     "execution_count": 23,
     "metadata": {},
     "output_type": "execute_result"
    }
   ],
   "source": [
    "Customer.actives.count()"
   ]
  },
  {
   "cell_type": "code",
   "execution_count": 24,
   "metadata": {},
   "outputs": [
    {
     "name": "stdout",
     "output_type": "stream",
     "text": [
      "<QuerySet [<Customer: Customer id: 23, name: Haibo Yan, sex: M, True>, <Customer: Customer id: 24, name: Zachary Yan, sex: M, True>, <Customer: Customer id: 25, name: Tina Luo, sex: F, True>, <Customer: Customer id: 26, name: Ruby Yan, sex: F, True>, <Customer: Customer id: 27, name: Sarah Brightman, sex: F, False>]>\n"
     ]
    }
   ],
   "source": [
    "print(Customer.objects.all())"
   ]
  },
  {
   "cell_type": "code",
   "execution_count": 25,
   "metadata": {},
   "outputs": [
    {
     "name": "stdout",
     "output_type": "stream",
     "text": [
      "<QuerySet [<Customer: Customer id: 23, name: Haibo Yan, sex: M, True>, <Customer: Customer id: 24, name: Zachary Yan, sex: M, True>, <Customer: Customer id: 25, name: Tina Luo, sex: F, True>, <Customer: Customer id: 26, name: Ruby Yan, sex: F, True>]>\n"
     ]
    }
   ],
   "source": [
    "print(Customer.actives.all())"
   ]
  },
  {
   "cell_type": "code",
   "execution_count": 1,
   "metadata": {},
   "outputs": [],
   "source": [
    "s1 = Service.objects.create(name='Mineral baths', slug='Mineral baths', time_type='[30, 60]', rate=2.50)"
   ]
  },
  {
   "cell_type": "code",
   "execution_count": 2,
   "metadata": {},
   "outputs": [],
   "source": [
    "s1.save()"
   ]
  },
  {
   "cell_type": "code",
   "execution_count": 4,
   "metadata": {},
   "outputs": [
    {
     "data": {
      "text/plain": [
       "[<Service: name: Massage services; slug: Swedish, shiatsu, or deep tissue>,\n",
       " <Service: name: Facial services; slug: normal or collagen>,\n",
       " <Service: name: Specialty treatment services; slug: hot stone, sugar scrub, herbal body wrap, or botanical mud wrap>]"
      ]
     },
     "execution_count": 4,
     "metadata": {},
     "output_type": "execute_result"
    }
   ],
   "source": [
    "Service.objects.bulk_create([\n",
    "    Service(name='Massage services', slug='Swedish, shiatsu, or deep tissue', time_type='[30, 60]', rate=3.00),\n",
    "    Service(name='Facial services', slug='normal or collagen', time_type='[30, 60]', rate=2.00),\n",
    "    Service(name='Specialty treatment services', slug='hot stone, sugar scrub, herbal body wrap, or botanical mud wrap', time_type='[60, 90]', rate=3.50)\n",
    "])"
   ]
  },
  {
   "cell_type": "code",
   "execution_count": 5,
   "metadata": {},
   "outputs": [
    {
     "data": {
      "text/plain": [
       "4"
      ]
     },
     "execution_count": 5,
     "metadata": {},
     "output_type": "execute_result"
    }
   ],
   "source": [
    "Service.objects.all().count()"
   ]
  },
  {
   "cell_type": "code",
   "execution_count": null,
   "metadata": {},
   "outputs": [],
   "source": []
  }
 ],
 "metadata": {
  "kernelspec": {
   "display_name": "Django Shell-Plus",
   "language": "python",
   "name": "django_extensions"
  },
  "language_info": {
   "codemirror_mode": {
    "name": "ipython",
    "version": 3
   },
   "file_extension": ".py",
   "mimetype": "text/x-python",
   "name": "python",
   "nbconvert_exporter": "python",
   "pygments_lexer": "ipython3",
   "version": "3.7.0"
  }
 },
 "nbformat": 4,
 "nbformat_minor": 2
}
